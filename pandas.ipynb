{
 "cells": [
  {
   "cell_type": "code",
   "execution_count": null,
   "id": "cdb5f806-8af9-429d-bba2-e3b12b8ca6cd",
   "metadata": {},
   "outputs": [],
   "source": [
    "# Ordered Data Structures --> Strings, Lists, Tuples"
   ]
  },
  {
   "cell_type": "code",
   "execution_count": null,
   "id": "af981118-e076-425d-b03d-5f0104e88985",
   "metadata": {},
   "outputs": [],
   "source": [
    "s = \"welcome to sigmoid\""
   ]
  },
  {
   "cell_type": "code",
   "execution_count": null,
   "id": "e2482909-76b4-4f78-ba42-804fcd349a39",
   "metadata": {},
   "outputs": [],
   "source": [
    "len(s)"
   ]
  },
  {
   "cell_type": "code",
   "execution_count": null,
   "id": "9136057c-9666-4fd2-bc95-f9b87f47d9b9",
   "metadata": {},
   "outputs": [],
   "source": [
    "s[0]"
   ]
  },
  {
   "cell_type": "code",
   "execution_count": null,
   "id": "be3373cc-ff58-4db2-8c7a-35fd71f13b40",
   "metadata": {},
   "outputs": [],
   "source": [
    "s[:7]"
   ]
  },
  {
   "cell_type": "code",
   "execution_count": null,
   "id": "b2d3c6c8-0d2d-450e-af60-475ec731b1ae",
   "metadata": {},
   "outputs": [],
   "source": [
    "s[8:]"
   ]
  },
  {
   "cell_type": "code",
   "execution_count": null,
   "id": "3147a6ea-aa03-4eb2-8e3b-64babba7446a",
   "metadata": {},
   "outputs": [],
   "source": [
    "s[::2]"
   ]
  },
  {
   "cell_type": "code",
   "execution_count": null,
   "id": "cc9c9847-8531-4dfa-a5dc-ad9f9f06b004",
   "metadata": {},
   "outputs": [],
   "source": [
    "\"hi\"+\"hello\""
   ]
  },
  {
   "cell_type": "code",
   "execution_count": null,
   "id": "e912b180-e736-4f28-b9c0-7a408f56a1f1",
   "metadata": {},
   "outputs": [],
   "source": [
    "\"hi\"*2"
   ]
  },
  {
   "cell_type": "code",
   "execution_count": null,
   "id": "544438aa-efcb-4a33-bc74-baaa745fb372",
   "metadata": {},
   "outputs": [],
   "source": [
    "s1 = \"i have an oringe\""
   ]
  },
  {
   "cell_type": "code",
   "execution_count": null,
   "id": "3525da53-e4a6-462b-89aa-8a3cfa13fa50",
   "metadata": {},
   "outputs": [],
   "source": [
    "s1[2] = 'a'"
   ]
  },
  {
   "cell_type": "code",
   "execution_count": null,
   "id": "11f6e011-7303-471f-b77e-aea4b8269a49",
   "metadata": {},
   "outputs": [],
   "source": [
    "s1[:12] + 'a'+s1[13:]"
   ]
  },
  {
   "cell_type": "code",
   "execution_count": null,
   "id": "c1ddcfd8-e437-4af6-bf09-9a6abee5510d",
   "metadata": {},
   "outputs": [],
   "source": [
    "l = s.split(' ')"
   ]
  },
  {
   "cell_type": "code",
   "execution_count": null,
   "id": "8518f8a5-986f-4f4c-8569-ad85cb92459a",
   "metadata": {},
   "outputs": [],
   "source": [
    "l.__add__([2])"
   ]
  },
  {
   "cell_type": "code",
   "execution_count": null,
   "id": "23a17601-2f92-4ba8-b5bb-ebcaa9c4fabb",
   "metadata": {},
   "outputs": [],
   "source": [
    "dir(s)"
   ]
  },
  {
   "cell_type": "code",
   "execution_count": null,
   "id": "814577cf-a7a4-4e13-99df-afaf7a6a7611",
   "metadata": {},
   "outputs": [],
   "source": [
    "s.capitalize()"
   ]
  },
  {
   "cell_type": "code",
   "execution_count": null,
   "id": "1bdfee20-8184-41ce-ae3e-4157a64e6153",
   "metadata": {},
   "outputs": [],
   "source": [
    "s.upper()"
   ]
  },
  {
   "cell_type": "code",
   "execution_count": null,
   "id": "1317f382-1be1-4216-851f-5ffce8429710",
   "metadata": {},
   "outputs": [],
   "source": [
    "s1.replace('i','a')"
   ]
  },
  {
   "cell_type": "code",
   "execution_count": null,
   "id": "7facc5d7-501c-4464-b71a-4f62cb36e46e",
   "metadata": {},
   "outputs": [],
   "source": [
    "l1 = ['orange','blr',1,23,24.5,[12,15,'delhi']]"
   ]
  },
  {
   "cell_type": "code",
   "execution_count": null,
   "id": "284f357a-6eb8-42d7-a3e7-af4cb0ccc485",
   "metadata": {},
   "outputs": [],
   "source": [
    "l1.append(['jaipur','mum'])"
   ]
  },
  {
   "cell_type": "code",
   "execution_count": null,
   "id": "3d99e46d-9d4d-4c97-ba9e-39208afcacae",
   "metadata": {},
   "outputs": [],
   "source": [
    "dir(l1)"
   ]
  },
  {
   "cell_type": "code",
   "execution_count": null,
   "id": "6099b746-346c-4684-9a17-cc7074d585a0",
   "metadata": {},
   "outputs": [],
   "source": [
    "l1.extend(['hi','hello'])"
   ]
  },
  {
   "cell_type": "code",
   "execution_count": null,
   "id": "b610ba66-8024-4366-8786-6ae62b1c29cb",
   "metadata": {},
   "outputs": [],
   "source": [
    "l1.pop()"
   ]
  },
  {
   "cell_type": "code",
   "execution_count": null,
   "id": "9d073357-3c35-4b4a-af82-5e34b8b762cc",
   "metadata": {},
   "outputs": [],
   "source": [
    "l1[1] = 'Mysore'"
   ]
  },
  {
   "cell_type": "code",
   "execution_count": null,
   "id": "25b1b04a-7ce3-43fb-be71-fb736b917919",
   "metadata": {},
   "outputs": [],
   "source": [
    "t = 'a','b',100"
   ]
  },
  {
   "cell_type": "code",
   "execution_count": null,
   "id": "07151ffd-a361-42f2-bf09-e1432c8645b5",
   "metadata": {},
   "outputs": [],
   "source": [
    "t[1] = 'x'"
   ]
  },
  {
   "cell_type": "code",
   "execution_count": null,
   "id": "a760f10f-49f7-45fd-837e-52e491a10114",
   "metadata": {},
   "outputs": [],
   "source": [
    "# Un-ordered data structures"
   ]
  },
  {
   "cell_type": "code",
   "execution_count": null,
   "id": "2933d8b8-6dcf-4847-b1b5-63c1edfbe62d",
   "metadata": {},
   "outputs": [],
   "source": [
    "d = {'ID':[1,2,3],'Name':['john','sean','monika'],'Sal':(1233,313,424)}"
   ]
  },
  {
   "cell_type": "code",
   "execution_count": null,
   "id": "d94de90d-ccdf-4de4-ad0a-ceca87a4f1d9",
   "metadata": {},
   "outputs": [],
   "source": [
    "#from collections import OrderedDict"
   ]
  },
  {
   "cell_type": "code",
   "execution_count": null,
   "id": "754d274c-f671-4fda-9ca7-58793f3f8fdf",
   "metadata": {},
   "outputs": [],
   "source": [
    "d['City']=['Blr','Mum','Del']"
   ]
  },
  {
   "cell_type": "code",
   "execution_count": null,
   "id": "68305c30-cec0-4b8f-8f62-8bc31733ce55",
   "metadata": {},
   "outputs": [],
   "source": [
    "d.keys()"
   ]
  },
  {
   "cell_type": "code",
   "execution_count": null,
   "id": "24bbde03-55ad-4e78-9e1e-97fa093ae8dc",
   "metadata": {},
   "outputs": [],
   "source": [
    "d['City'][2]"
   ]
  },
  {
   "cell_type": "code",
   "execution_count": null,
   "id": "133a4c6e-d6d3-4901-8ec2-e50c3fcde621",
   "metadata": {},
   "outputs": [],
   "source": [
    "d['Name'][0]='peter'"
   ]
  },
  {
   "cell_type": "code",
   "execution_count": null,
   "id": "05b75621-c66a-4e5d-bd01-d351e384698d",
   "metadata": {},
   "outputs": [],
   "source": [
    "d['Name'][0][0] = j"
   ]
  },
  {
   "cell_type": "code",
   "execution_count": null,
   "id": "a3d7aa56-12ab-464e-a7a8-a0cba8f8d773",
   "metadata": {},
   "outputs": [],
   "source": [
    "s = set()"
   ]
  },
  {
   "cell_type": "code",
   "execution_count": null,
   "id": "8e20d929-fecc-40a5-b2a9-e535d523c6f7",
   "metadata": {},
   "outputs": [],
   "source": [
    "type(s)"
   ]
  },
  {
   "cell_type": "code",
   "execution_count": null,
   "id": "d1d37bea-c172-45d4-a790-cc03a09fc43d",
   "metadata": {},
   "outputs": [],
   "source": [
    "s = {1,1,1,2,3,4,5,6,7,7,8}"
   ]
  },
  {
   "cell_type": "code",
   "execution_count": null,
   "id": "6b24a71a-a355-43c5-bdc9-feeead3c7d7f",
   "metadata": {},
   "outputs": [],
   "source": [
    "s"
   ]
  },
  {
   "cell_type": "code",
   "execution_count": null,
   "id": "6cf89276-2238-4768-aee4-e3d21ba57c73",
   "metadata": {},
   "outputs": [],
   "source": [
    "l = [1,1,1,2,3,'Blr','Blr','Mum','mum']"
   ]
  },
  {
   "cell_type": "code",
   "execution_count": null,
   "id": "bb4434ab-c83a-4f36-a80e-e240487919c0",
   "metadata": {},
   "outputs": [],
   "source": [
    "set(l)"
   ]
  },
  {
   "cell_type": "code",
   "execution_count": null,
   "id": "bc2c2813-17ed-4756-a435-d28f027eb1c4",
   "metadata": {},
   "outputs": [],
   "source": [
    "s1 = {1,2,3}"
   ]
  },
  {
   "cell_type": "code",
   "execution_count": null,
   "id": "f6eff001-60af-4cd5-be70-b18db84a292d",
   "metadata": {},
   "outputs": [],
   "source": [
    "s1&s"
   ]
  },
  {
   "cell_type": "code",
   "execution_count": null,
   "id": "ebb5fe18-15d2-4581-a63c-47d498b905d4",
   "metadata": {},
   "outputs": [],
   "source": [
    "s1|s"
   ]
  },
  {
   "cell_type": "code",
   "execution_count": null,
   "id": "9b57cd14-9cf4-4338-9a90-fbf30d161f17",
   "metadata": {},
   "outputs": [],
   "source": [
    "s.issubset(s1)"
   ]
  },
  {
   "cell_type": "code",
   "execution_count": null,
   "id": "f6e8460e-c566-4f65-8de2-c9f82de3fdea",
   "metadata": {},
   "outputs": [],
   "source": [
    "s = \"Hi, welcome to sigmoid\""
   ]
  },
  {
   "cell_type": "code",
   "execution_count": null,
   "id": "1eddb9de-8367-45b8-a1f7-3b6ee0cfad0a",
   "metadata": {},
   "outputs": [],
   "source": [
    "for i in s:\n",
    "    print(i, end='--')"
   ]
  },
  {
   "cell_type": "code",
   "execution_count": null,
   "id": "f0234226-a8ab-4492-b016-7a1b2e7f5b13",
   "metadata": {},
   "outputs": [],
   "source": [
    "for i in l:\n",
    "    print(i)"
   ]
  },
  {
   "cell_type": "code",
   "execution_count": null,
   "id": "81c3f9d7-1dd0-4a48-a862-da306e8f2b76",
   "metadata": {},
   "outputs": [],
   "source": [
    "d.keys()"
   ]
  },
  {
   "cell_type": "code",
   "execution_count": null,
   "id": "ce12d498-d029-4565-b9e2-4ecf66eae00b",
   "metadata": {},
   "outputs": [],
   "source": [
    "d.values()"
   ]
  },
  {
   "cell_type": "code",
   "execution_count": null,
   "id": "59a670dc-5e58-4406-b674-0d2572fbf914",
   "metadata": {},
   "outputs": [],
   "source": [
    "d.items()"
   ]
  },
  {
   "cell_type": "code",
   "execution_count": null,
   "id": "a007e6b8-2db1-4197-95fd-1d260f73e042",
   "metadata": {},
   "outputs": [],
   "source": [
    "for i,j in d.items():\n",
    "    print(i,j[2])"
   ]
  },
  {
   "cell_type": "code",
   "execution_count": null,
   "id": "adbadcc6-8f2a-4d13-a03d-1d16f9213d1d",
   "metadata": {},
   "outputs": [],
   "source": [
    "city = 'blr'\n",
    "comp = 'sigmoid'"
   ]
  },
  {
   "cell_type": "code",
   "execution_count": null,
   "id": "9c7d2f4c-644e-4cc7-81af-fb712652c834",
   "metadata": {},
   "outputs": [],
   "source": [
    "print(\"I work in {1} located at {0}\".format(city,comp))"
   ]
  },
  {
   "cell_type": "code",
   "execution_count": null,
   "id": "7a5eab97-2e1b-481a-93a1-a259110607c3",
   "metadata": {},
   "outputs": [],
   "source": [
    "print(\"I work in {} located at {}\".format(comp,city))"
   ]
  },
  {
   "cell_type": "code",
   "execution_count": null,
   "id": "c6b6cdb3-40ef-434d-9030-45115788925f",
   "metadata": {},
   "outputs": [],
   "source": [
    "print(\"i love %s and there are %d number of people here\" %('India',12.1236))"
   ]
  },
  {
   "cell_type": "code",
   "execution_count": null,
   "id": "4f057d96-7d2a-4f68-88ca-6ca43734ddef",
   "metadata": {},
   "outputs": [],
   "source": [
    "# conditions"
   ]
  },
  {
   "cell_type": "code",
   "execution_count": null,
   "id": "e02166ad-33e3-4644-bc52-dfb5d63adbf7",
   "metadata": {},
   "outputs": [],
   "source": [
    "python = 18"
   ]
  },
  {
   "cell_type": "code",
   "execution_count": null,
   "id": "c4641f1d-5d90-48b0-bc21-70cf27f0e76b",
   "metadata": {},
   "outputs": [],
   "source": [
    "if python>35:\n",
    "    print(\"Pass\")\n",
    "else:\n",
    "    print(\"fail\")"
   ]
  },
  {
   "cell_type": "code",
   "execution_count": null,
   "id": "9efdbea2-a80c-476f-b3a9-cd86b698c58a",
   "metadata": {},
   "outputs": [],
   "source": [
    "marks = int(input(\"enter your marks\"))\n",
    "\n",
    "if (marks>75) & (marks<90):\n",
    "    print(\"excellent\")\n",
    "elif marks<75:\n",
    "    print(\"avg\")\n",
    "else:\n",
    "    print(\"below avg\")"
   ]
  },
  {
   "cell_type": "code",
   "execution_count": null,
   "id": "7d1113a2-752e-45c8-830c-49879ad9f1f5",
   "metadata": {},
   "outputs": [],
   "source": [
    "# break, continue, pass (do nothing)"
   ]
  },
  {
   "cell_type": "code",
   "execution_count": null,
   "id": "85fca6cd-f52a-4a83-b675-58ef019fa52a",
   "metadata": {},
   "outputs": [],
   "source": [
    "# Find the occurance of 'a' and it's positions in a string \"banana\""
   ]
  },
  {
   "cell_type": "code",
   "execution_count": null,
   "id": "cc965d6a-ad70-438c-8d42-ca1cf7777fc5",
   "metadata": {},
   "outputs": [],
   "source": [
    "num = 0\n",
    "for i in range(10):\n",
    "    num+=1\n",
    "    if num==5:\n",
    "        #pass\n",
    "        #break\n",
    "        continue\n",
    "    print(\"num is\",num)\n",
    "print(\"out of the loop\")"
   ]
  },
  {
   "cell_type": "code",
   "execution_count": null,
   "id": "4a536bbb-a939-4401-b021-a66fcd6a9983",
   "metadata": {},
   "outputs": [],
   "source": [
    "if 3<5:\n",
    "    pass"
   ]
  },
  {
   "cell_type": "code",
   "execution_count": null,
   "id": "8c8450af-8b54-46a0-9cae-99ac229512cc",
   "metadata": {},
   "outputs": [],
   "source": [
    "# while"
   ]
  },
  {
   "cell_type": "code",
   "execution_count": null,
   "id": "00279174-1cbd-4649-a088-c5668654a3c1",
   "metadata": {},
   "outputs": [],
   "source": [
    "num = 5\n",
    "while num>0:\n",
    "    print(num)\n",
    "    num-=1\n",
    "print(\"we're out of the loop\")"
   ]
  },
  {
   "cell_type": "code",
   "execution_count": null,
   "id": "9e74414f-8f2e-44a4-aa76-1b3f28019d9c",
   "metadata": {},
   "outputs": [],
   "source": [
    "num = 5\n",
    "while True:\n",
    "    print(num)\n",
    "    num-=1\n",
    "    if num==0:\n",
    "        break\n",
    "print(\"we're out of the loop\")"
   ]
  },
  {
   "cell_type": "code",
   "execution_count": null,
   "id": "d22559d4-3b48-4816-8d55-e9089bf3f68d",
   "metadata": {},
   "outputs": [],
   "source": [
    "# functions"
   ]
  },
  {
   "cell_type": "code",
   "execution_count": null,
   "id": "1ddedc7a-5729-445e-88d3-8fd4ec3903f0",
   "metadata": {},
   "outputs": [],
   "source": [
    "def fn():\n",
    "    print(\"hello\")"
   ]
  },
  {
   "cell_type": "code",
   "execution_count": null,
   "id": "de488c1a-d5b3-4988-8a92-90250b6fe92f",
   "metadata": {},
   "outputs": [],
   "source": [
    "fn()"
   ]
  },
  {
   "cell_type": "code",
   "execution_count": null,
   "id": "a03f6bef-8b3e-4891-b0ba-87d8dff211d2",
   "metadata": {},
   "outputs": [],
   "source": [
    "def fn(city,org):\n",
    "    print(\"hello\", (org,city))"
   ]
  },
  {
   "cell_type": "code",
   "execution_count": null,
   "id": "ccb0d343-4da7-49f1-ae28-099618f3ad1b",
   "metadata": {},
   "outputs": [],
   "source": [
    "fn(org='python',city='blr')"
   ]
  },
  {
   "cell_type": "code",
   "execution_count": null,
   "id": "b39a167b-bb52-4620-9151-c6debfa5e51f",
   "metadata": {},
   "outputs": [],
   "source": [
    "l = [1,2,3,4,5]"
   ]
  },
  {
   "cell_type": "code",
   "execution_count": null,
   "id": "a7fc681a-dbe0-4108-b139-82029a1c1186",
   "metadata": {},
   "outputs": [],
   "source": [
    "l1 = []"
   ]
  },
  {
   "cell_type": "code",
   "execution_count": null,
   "id": "8763738c-663e-4724-bf72-2966501fe25f",
   "metadata": {},
   "outputs": [],
   "source": [
    "for i in l:\n",
    "    l1.append(i*i)"
   ]
  },
  {
   "cell_type": "code",
   "execution_count": null,
   "id": "9cd500f7-e4ec-4af7-a779-d51c375bb8a5",
   "metadata": {},
   "outputs": [],
   "source": [
    "l1"
   ]
  },
  {
   "cell_type": "code",
   "execution_count": null,
   "id": "0a28a057-f35d-4d0a-872a-87e1d2b41bb8",
   "metadata": {},
   "outputs": [],
   "source": [
    "[i*i for i in l]"
   ]
  },
  {
   "cell_type": "code",
   "execution_count": null,
   "id": "a1df9bce-eb77-42e0-a076-158f983c14a1",
   "metadata": {},
   "outputs": [],
   "source": [
    "[i*i for i in range(10) if i%2==0]"
   ]
  },
  {
   "cell_type": "code",
   "execution_count": null,
   "id": "ee924f41-9926-4f1d-96b9-0ff22466f034",
   "metadata": {},
   "outputs": [],
   "source": [
    "[i*i if i%2==0 else i**3 for i in range(10)]"
   ]
  },
  {
   "cell_type": "code",
   "execution_count": null,
   "id": "a26a8a0d-040c-4405-aabc-c9de55089ead",
   "metadata": {},
   "outputs": [],
   "source": [
    "def fn(x,y):\n",
    "    #print(x+y)\n",
    "    return x+y"
   ]
  },
  {
   "cell_type": "code",
   "execution_count": null,
   "id": "6a2272ab-71d1-449c-bb24-34d246fa3bbd",
   "metadata": {},
   "outputs": [],
   "source": [
    "z=fn(10,20)"
   ]
  },
  {
   "cell_type": "code",
   "execution_count": null,
   "id": "4342e43b-c3ff-44ce-b428-c55805c96597",
   "metadata": {},
   "outputs": [],
   "source": [
    "type(z)"
   ]
  },
  {
   "cell_type": "code",
   "execution_count": null,
   "id": "de99f191-e7a2-47d4-933e-3cc33d03236b",
   "metadata": {},
   "outputs": [],
   "source": [
    "def fn(x,y,a):\n",
    "    return sum([x,y,a])"
   ]
  },
  {
   "cell_type": "code",
   "execution_count": null,
   "id": "768c9e91-06e7-49b7-b77f-5ea8a66ca9f4",
   "metadata": {},
   "outputs": [],
   "source": [
    "sum([10,20])"
   ]
  },
  {
   "cell_type": "code",
   "execution_count": null,
   "id": "c63d699e-01bf-4c55-89f6-edbfab935cc7",
   "metadata": {},
   "outputs": [],
   "source": [
    "fn(10,20,30)"
   ]
  },
  {
   "cell_type": "code",
   "execution_count": null,
   "id": "a6fe5e84-2cb3-4ee7-a669-9dc17ef48ac7",
   "metadata": {},
   "outputs": [],
   "source": [
    "def fn(*x):\n",
    "    return sum([*x])"
   ]
  },
  {
   "cell_type": "code",
   "execution_count": null,
   "id": "ba6d5a55-7bcb-4994-ae21-4b6cfd61680b",
   "metadata": {},
   "outputs": [],
   "source": [
    "fn(10,20,30,40,50)"
   ]
  },
  {
   "cell_type": "code",
   "execution_count": null,
   "id": "a31fb645-e67c-437d-872d-1ec0e9200c44",
   "metadata": {},
   "outputs": [],
   "source": [
    "# Shallow copy\n",
    "l1 = l "
   ]
  },
  {
   "cell_type": "code",
   "execution_count": null,
   "id": "73fe1564-75c3-4289-bdba-be19639c213e",
   "metadata": {},
   "outputs": [],
   "source": [
    "l.append(10)"
   ]
  },
  {
   "cell_type": "code",
   "execution_count": null,
   "id": "a47c0610-1c8e-4de9-a23b-61696c0ef64f",
   "metadata": {},
   "outputs": [],
   "source": [
    "l2 = l[:]"
   ]
  },
  {
   "cell_type": "code",
   "execution_count": null,
   "id": "418f78d3-0cd1-4013-a8aa-ecb3e1ad6ea3",
   "metadata": {},
   "outputs": [],
   "source": [
    "l2.append(100)"
   ]
  },
  {
   "cell_type": "code",
   "execution_count": null,
   "id": "c1ea8d9d-276e-4a72-ba5b-9492e6fc77e1",
   "metadata": {},
   "outputs": [],
   "source": [
    "# map, filter, lambda, reduce, zip, enumerate, generators, iterators, decorators"
   ]
  },
  {
   "cell_type": "code",
   "execution_count": null,
   "id": "4be35b76-4a3f-47ea-bdd7-b169b56df3bb",
   "metadata": {},
   "outputs": [],
   "source": [
    "def fn(x):\n",
    "    return(x*x)"
   ]
  },
  {
   "cell_type": "code",
   "execution_count": null,
   "id": "bfcbac5d-d747-4914-a05a-5ec6ded63c33",
   "metadata": {},
   "outputs": [],
   "source": [
    "for i in l:\n",
    "    fn(i)"
   ]
  },
  {
   "cell_type": "code",
   "execution_count": null,
   "id": "16a6b02a-2d11-442c-9841-517feda42250",
   "metadata": {},
   "outputs": [],
   "source": [
    "list(map(fn,l))"
   ]
  },
  {
   "cell_type": "code",
   "execution_count": null,
   "id": "c3dac2e0-5983-42e9-b5d1-b114ce12fc02",
   "metadata": {},
   "outputs": [],
   "source": [
    "def fn1(x):\n",
    "    return x%2==0"
   ]
  },
  {
   "cell_type": "code",
   "execution_count": null,
   "id": "3fb8c77b-b3bd-4a44-99de-048cf4217b08",
   "metadata": {},
   "outputs": [],
   "source": [
    "list(map(fn1,l))"
   ]
  },
  {
   "cell_type": "code",
   "execution_count": null,
   "id": "8b2c07c4-9989-4a49-8d57-1abf5904779b",
   "metadata": {},
   "outputs": [],
   "source": [
    "list(filter(fn1,l))"
   ]
  },
  {
   "cell_type": "code",
   "execution_count": null,
   "id": "f97a5578-9eec-40b6-90e6-af5912a5195a",
   "metadata": {},
   "outputs": [],
   "source": [
    "lambda x:x*x"
   ]
  },
  {
   "cell_type": "code",
   "execution_count": null,
   "id": "7b225165-eaad-448e-b4d1-7f8c23cc2cc6",
   "metadata": {},
   "outputs": [],
   "source": [
    "lambda x,y:x+y"
   ]
  },
  {
   "cell_type": "code",
   "execution_count": null,
   "id": "5727be8e-857f-43af-af94-eec0014c021b",
   "metadata": {},
   "outputs": [],
   "source": [
    "list(map(lambda x:x*x,l))"
   ]
  },
  {
   "cell_type": "code",
   "execution_count": null,
   "id": "69ab6ce3-07b4-4679-9eb2-56ab4e03dcac",
   "metadata": {},
   "outputs": [],
   "source": [
    "[x*x for x in l]"
   ]
  },
  {
   "cell_type": "code",
   "execution_count": null,
   "id": "a822fbfc-1c95-4930-a099-13d326eb45bf",
   "metadata": {},
   "outputs": [],
   "source": [
    "import timeit"
   ]
  },
  {
   "cell_type": "code",
   "execution_count": null,
   "id": "7a79b53c-aad6-4b1e-a439-28e58c8633b9",
   "metadata": {},
   "outputs": [],
   "source": [
    "timeit.timeit"
   ]
  },
  {
   "cell_type": "code",
   "execution_count": null,
   "id": "080fdd43-86e3-4a0c-80cc-7c58e669bb09",
   "metadata": {},
   "outputs": [],
   "source": [
    "help(timeit.timeit)"
   ]
  },
  {
   "cell_type": "code",
   "execution_count": null,
   "id": "8379890d-5e30-4d42-8f85-e41e9e813db9",
   "metadata": {},
   "outputs": [],
   "source": [
    "from functools import reduce"
   ]
  },
  {
   "cell_type": "code",
   "execution_count": null,
   "id": "c45c9aca-c048-482a-9981-3d5e876921ed",
   "metadata": {},
   "outputs": [],
   "source": [
    "reduce(lambda x,y:x+y,l)"
   ]
  },
  {
   "cell_type": "code",
   "execution_count": null,
   "id": "9081f7af-629c-4ba7-83b7-d8e379f34b97",
   "metadata": {},
   "outputs": [],
   "source": [
    "l = [100,28,105,65,42,44,8]"
   ]
  },
  {
   "cell_type": "code",
   "execution_count": null,
   "id": "31ecf3b3-caf8-4d40-9fda-fc05419fb72e",
   "metadata": {},
   "outputs": [],
   "source": [
    "reduce(lambda x,y:x if x>y else y,l)"
   ]
  },
  {
   "cell_type": "code",
   "execution_count": null,
   "id": "2e1ca2f9-18a3-4f8b-a773-ca68be09734e",
   "metadata": {},
   "outputs": [],
   "source": [
    "max(l)"
   ]
  },
  {
   "cell_type": "code",
   "execution_count": null,
   "id": "f0f5ba78-6973-43cf-b9ac-38b8b17b791b",
   "metadata": {},
   "outputs": [],
   "source": [
    "l1 = [100,200]"
   ]
  },
  {
   "cell_type": "code",
   "execution_count": null,
   "id": "468d8539-c562-4c06-92b7-09c54db76ccc",
   "metadata": {},
   "outputs": [],
   "source": [
    "l2 = ['banana','orange','apple']"
   ]
  },
  {
   "cell_type": "code",
   "execution_count": null,
   "id": "b4c9e26e-e37a-4414-a82a-6683b5a28b49",
   "metadata": {},
   "outputs": [],
   "source": [
    "list(zip(l1,l2))"
   ]
  },
  {
   "cell_type": "code",
   "execution_count": null,
   "id": "02bc9d47-8599-431a-a805-e6abf36b07cd",
   "metadata": {},
   "outputs": [],
   "source": [
    "dict(zip(l2,l1))"
   ]
  },
  {
   "cell_type": "code",
   "execution_count": null,
   "id": "80f862fe-943b-444c-a2f8-3781a4613645",
   "metadata": {},
   "outputs": [],
   "source": [
    "s = \"hi class\""
   ]
  },
  {
   "cell_type": "code",
   "execution_count": null,
   "id": "9dcb7e99-c946-4b1d-be10-a5506d9606b3",
   "metadata": {},
   "outputs": [],
   "source": [
    "for i,j in enumerate(s):\n",
    "    print(i,j)"
   ]
  },
  {
   "cell_type": "code",
   "execution_count": null,
   "id": "ac3c6eb7-d10b-4dc9-b59d-8147626869e9",
   "metadata": {},
   "outputs": [],
   "source": [
    "# Scope of a variable --> LEGB\n",
    "x = 20\n",
    "\n",
    "def example():\n",
    "    global x\n",
    "    print(\"the value of x is :\", x)\n",
    "    x = 15\n",
    "    print(\"the value of x now is changed to:\", x)\n",
    "#x"
   ]
  },
  {
   "cell_type": "code",
   "execution_count": null,
   "id": "0b43cd31-0c16-4813-ad25-07eeafe0d3d8",
   "metadata": {},
   "outputs": [],
   "source": [
    "example()"
   ]
  },
  {
   "cell_type": "code",
   "execution_count": null,
   "id": "51d94966-7120-4738-b8a7-ae11882bd28c",
   "metadata": {},
   "outputs": [],
   "source": [
    "def fn():\n",
    "    for i in range(5):\n",
    "        print(i*i)"
   ]
  },
  {
   "cell_type": "code",
   "execution_count": null,
   "id": "91f85023-8c3e-4c91-9c2d-01909af5ea93",
   "metadata": {},
   "outputs": [],
   "source": [
    "fn()"
   ]
  },
  {
   "cell_type": "code",
   "execution_count": null,
   "id": "caf4636e-5153-45ae-b684-3f45dff6b13a",
   "metadata": {},
   "outputs": [],
   "source": [
    "def fn1():\n",
    "    for i in range(5):\n",
    "        yield i*i"
   ]
  },
  {
   "cell_type": "code",
   "execution_count": null,
   "id": "c29ffcc7-0562-4e61-a3c3-416cc494a28f",
   "metadata": {},
   "outputs": [],
   "source": [
    "gen=fn1()"
   ]
  },
  {
   "cell_type": "code",
   "execution_count": null,
   "id": "6901d662-075b-4b4e-9350-8a75107c859a",
   "metadata": {},
   "outputs": [],
   "source": [
    "gen"
   ]
  },
  {
   "cell_type": "code",
   "execution_count": null,
   "id": "8807fb93-289d-4517-9943-4711220229b2",
   "metadata": {},
   "outputs": [],
   "source": [
    "next(gen)"
   ]
  },
  {
   "cell_type": "code",
   "execution_count": null,
   "id": "0d53dd81-f66a-4def-839a-c869c4a16c13",
   "metadata": {},
   "outputs": [],
   "source": [
    "iter"
   ]
  },
  {
   "cell_type": "code",
   "execution_count": null,
   "id": "82c2f481-c9fa-413f-8ba0-2b6000ef4a5e",
   "metadata": {},
   "outputs": [],
   "source": [
    "help(iter)"
   ]
  },
  {
   "cell_type": "code",
   "execution_count": null,
   "id": "57d2fe59-31d8-4924-b2a2-d075f68edd18",
   "metadata": {},
   "outputs": [],
   "source": [
    "fn()"
   ]
  },
  {
   "cell_type": "code",
   "execution_count": null,
   "id": "af57fafa-4aa6-4e75-a79b-1cccb3389bf1",
   "metadata": {},
   "outputs": [],
   "source": [
    "l.insert"
   ]
  },
  {
   "cell_type": "code",
   "execution_count": null,
   "id": "b789d3b4-3747-4984-bbb5-7c0c1e4d4a9f",
   "metadata": {},
   "outputs": [],
   "source": [
    "def fn(x,y):\n",
    "    '''This fn takes 2 args\n",
    "    and returns the sum of it'''\n",
    "    return x+y"
   ]
  },
  {
   "cell_type": "code",
   "execution_count": null,
   "id": "9656ac9d-6f1e-48f7-b467-1641d0cdde5d",
   "metadata": {},
   "outputs": [],
   "source": [
    "def new_dec(actual_func):\n",
    "    '''This fn takes another fn as an arguement'''\n",
    "\n",
    "    def wrapper_func():\n",
    "        print(\"statment bfr the execution of the decorator fn\")\n",
    "        actual_func()\n",
    "        print(\"statment bfr the execution of the decorator fn\")\n",
    "    return wrapper_func"
   ]
  },
  {
   "cell_type": "code",
   "execution_count": null,
   "id": "5d82fe1b-f95f-49cc-a5ac-df97169d132b",
   "metadata": {},
   "outputs": [],
   "source": [
    "#@new_dec\n",
    "def new_func():\n",
    "    print(\"hello, i'm yet to be decorated\")\n",
    "new_func()"
   ]
  },
  {
   "cell_type": "code",
   "execution_count": null,
   "id": "6c358c2f-720f-43f7-a701-fb1c2b2c6bfa",
   "metadata": {},
   "outputs": [],
   "source": [
    "#new = new_dec(new_func)"
   ]
  },
  {
   "cell_type": "code",
   "execution_count": null,
   "id": "748ad4cd-1d8f-4e99-a70d-520524504594",
   "metadata": {},
   "outputs": [],
   "source": [
    "#new()"
   ]
  },
  {
   "cell_type": "code",
   "execution_count": null,
   "id": "d8459ca5-cb8a-4221-973b-bba014e2146f",
   "metadata": {},
   "outputs": [],
   "source": [
    "# Packages & modules"
   ]
  },
  {
   "cell_type": "code",
   "execution_count": null,
   "id": "9257aa4c-c0dc-4a88-aa19-8675f4300e9f",
   "metadata": {},
   "outputs": [],
   "source": [
    "# Web application dev --> Flask, Django\n",
    "# Socket --> Ordinov, raspberry pie\n",
    "# Data Science --> Numpy, Pandas, Matplotlib, seaborn, scipy, sklearn, keras"
   ]
  },
  {
   "cell_type": "code",
   "execution_count": null,
   "id": "5d427d12-616b-4e4c-b9ed-e09b361ca613",
   "metadata": {},
   "outputs": [],
   "source": [
    "pwd"
   ]
  },
  {
   "cell_type": "code",
   "execution_count": null,
   "id": "27a289fb-f920-44a5-86bc-7bd8889a8f83",
   "metadata": {},
   "outputs": [],
   "source": [
    "import math"
   ]
  },
  {
   "cell_type": "code",
   "execution_count": null,
   "id": "6f8c4061-33e9-4ecf-b34d-4536b968756f",
   "metadata": {},
   "outputs": [],
   "source": [
    "math.exp(10)"
   ]
  },
  {
   "cell_type": "code",
   "execution_count": null,
   "id": "c2bf76d8-7723-4ff6-b7a3-214a17f5392c",
   "metadata": {},
   "outputs": [],
   "source": [
    "math.sqrt(10000)"
   ]
  },
  {
   "cell_type": "code",
   "execution_count": null,
   "id": "779ebacc-8937-4dab-8b41-5d6a525f1c28",
   "metadata": {},
   "outputs": [],
   "source": [
    "from math import sqrt as sq"
   ]
  },
  {
   "cell_type": "code",
   "execution_count": null,
   "id": "e40b1cea-6b84-427a-891c-98355fd8426c",
   "metadata": {},
   "outputs": [],
   "source": [
    "sq(186)"
   ]
  },
  {
   "cell_type": "code",
   "execution_count": null,
   "id": "a2093e81-8e38-4de7-96bf-239718ebe5db",
   "metadata": {},
   "outputs": [],
   "source": [
    "# from math import *"
   ]
  },
  {
   "cell_type": "code",
   "execution_count": null,
   "id": "f3698364-e05e-4f71-b514-3a40fd74445f",
   "metadata": {},
   "outputs": [],
   "source": [
    "import sys"
   ]
  },
  {
   "cell_type": "code",
   "execution_count": null,
   "id": "8100941c-0a3e-4e8c-b499-e26f23fd2008",
   "metadata": {},
   "outputs": [],
   "source": [
    "sys.argv"
   ]
  },
  {
   "cell_type": "code",
   "execution_count": null,
   "id": "76a7a9e8-7402-4866-8301-9bb393fceaa1",
   "metadata": {},
   "outputs": [],
   "source": [
    "# File handling\n",
    "# Exception handling\n",
    "# Database\n",
    "# OOPS"
   ]
  },
  {
   "cell_type": "code",
   "execution_count": null,
   "id": "82667093-98bd-4634-af97-c075c6d6c042",
   "metadata": {},
   "outputs": [],
   "source": [
    "l = [1,2,3,4]"
   ]
  },
  {
   "cell_type": "code",
   "execution_count": null,
   "id": "34657c31-3a8c-4696-ba67-4354b9410a06",
   "metadata": {},
   "outputs": [],
   "source": [
    "l1 = [10,20,30,40]"
   ]
  },
  {
   "cell_type": "code",
   "execution_count": null,
   "id": "7761d0ef-c700-4dbc-8038-aeb1b043e68a",
   "metadata": {},
   "outputs": [],
   "source": [
    "l+l1"
   ]
  },
  {
   "cell_type": "code",
   "execution_count": null,
   "id": "76640883-2c3a-4b62-95c9-e3548056a6d8",
   "metadata": {},
   "outputs": [],
   "source": [
    "# Numpy, Pandas"
   ]
  },
  {
   "cell_type": "code",
   "execution_count": null,
   "id": "e60b77c7-1eee-474b-ae58-f147441f47f9",
   "metadata": {},
   "outputs": [],
   "source": [
    "# N dimensional arrays"
   ]
  },
  {
   "cell_type": "code",
   "execution_count": null,
   "id": "d15ce164-9d90-481b-9509-67aac29d836a",
   "metadata": {},
   "outputs": [],
   "source": [
    "import numpy as np"
   ]
  },
  {
   "cell_type": "code",
   "execution_count": null,
   "id": "2d99ced5-bf10-429e-8114-8f8c25b54e3a",
   "metadata": {},
   "outputs": [],
   "source": [
    "np.array(l).reshape(2,2)+np.array(l1).reshape(2,2)"
   ]
  },
  {
   "cell_type": "code",
   "execution_count": null,
   "id": "4c74c84c-14ab-4bc5-b97a-ae20ee0487a0",
   "metadata": {},
   "outputs": [],
   "source": [
    "np.array(l1).reshape(2,2)"
   ]
  },
  {
   "cell_type": "code",
   "execution_count": null,
   "id": "019abc02-e10b-4eda-890d-95cedcecec2b",
   "metadata": {},
   "outputs": [],
   "source": [
    "np.array(l).reshape(2,2)"
   ]
  },
  {
   "cell_type": "code",
   "execution_count": null,
   "id": "0dc132a6-a9ca-4b27-b07e-b4fd5bafdc85",
   "metadata": {},
   "outputs": [],
   "source": [
    "np.array(l1).size"
   ]
  },
  {
   "cell_type": "code",
   "execution_count": null,
   "id": "d35f5700-4be7-48a9-a627-ee9aefbd29b7",
   "metadata": {},
   "outputs": [],
   "source": [
    "np.array(l1).shape"
   ]
  },
  {
   "cell_type": "code",
   "execution_count": null,
   "id": "2213f327-6aed-4908-b80b-7b3eca103435",
   "metadata": {},
   "outputs": [],
   "source": [
    "arr = np.array([28,19,87,26,25,56,25,15,26,86,54,12])"
   ]
  },
  {
   "cell_type": "code",
   "execution_count": null,
   "id": "5ff908e1-d26b-4f0d-9a61-7ad7f02f979a",
   "metadata": {},
   "outputs": [],
   "source": [
    "arr.shape"
   ]
  },
  {
   "cell_type": "code",
   "execution_count": null,
   "id": "d3e65426-c1c7-4263-a595-4df27cbbeb92",
   "metadata": {},
   "outputs": [],
   "source": [
    "arr1=np.array([28,19,87,26,25,56,25,15,26,86,54,12]).reshape(3,4)"
   ]
  },
  {
   "cell_type": "code",
   "execution_count": null,
   "id": "6d2a3eb3-3ac8-445f-b4b7-6168d660a46a",
   "metadata": {},
   "outputs": [],
   "source": [
    "np.array([[28,19,87],[26,25,56],[25,15,26],[86,54,12]])"
   ]
  },
  {
   "cell_type": "code",
   "execution_count": null,
   "id": "b2195424-bd2a-4be2-9f2d-480d7a7112f5",
   "metadata": {},
   "outputs": [],
   "source": [
    "arr1"
   ]
  },
  {
   "cell_type": "code",
   "execution_count": null,
   "id": "5f82dd83-944d-4ccd-ad4e-eac0a9ee279f",
   "metadata": {},
   "outputs": [],
   "source": [
    "arr1[0,2]"
   ]
  },
  {
   "cell_type": "code",
   "execution_count": null,
   "id": "ca22bb79-3ab2-47c4-bae8-7eb94de96f04",
   "metadata": {},
   "outputs": [],
   "source": [
    "arr1[0,:]"
   ]
  },
  {
   "cell_type": "code",
   "execution_count": null,
   "id": "ff789830-cf33-486f-a7e0-45603f3fd056",
   "metadata": {},
   "outputs": [],
   "source": [
    "arr1[:2,[1,3]]"
   ]
  },
  {
   "cell_type": "code",
   "execution_count": null,
   "id": "b98d3d30-1304-473d-8dc7-13168b22e4c1",
   "metadata": {},
   "outputs": [],
   "source": [
    "arr1[[0,2],1::2]"
   ]
  },
  {
   "cell_type": "code",
   "execution_count": null,
   "id": "5da8b615-6496-4403-a40f-ae1f8cd43f27",
   "metadata": {},
   "outputs": [],
   "source": [
    "arr1.cumsum()"
   ]
  },
  {
   "cell_type": "code",
   "execution_count": null,
   "id": "8478e5ec-bf0c-4314-83e7-74b42c598bc1",
   "metadata": {},
   "outputs": [],
   "source": [
    "arr1.flatten().shape"
   ]
  },
  {
   "cell_type": "code",
   "execution_count": null,
   "id": "5b0c54b1-9e0b-458d-ac21-372106b7dbd2",
   "metadata": {},
   "outputs": [],
   "source": [
    "arr1.mean()"
   ]
  },
  {
   "cell_type": "code",
   "execution_count": null,
   "id": "bd066754-bdc1-4e43-a066-ac4f7408634e",
   "metadata": {},
   "outputs": [],
   "source": [
    "arr1.std()"
   ]
  },
  {
   "cell_type": "code",
   "execution_count": null,
   "id": "9972cbb3-b19f-4624-ae7e-c97f07765b89",
   "metadata": {},
   "outputs": [],
   "source": [
    "arr1.max()"
   ]
  },
  {
   "cell_type": "code",
   "execution_count": null,
   "id": "715644b0-6501-4272-bbaf-4675e29761fe",
   "metadata": {},
   "outputs": [],
   "source": [
    "arr1.argmax()"
   ]
  },
  {
   "cell_type": "code",
   "execution_count": null,
   "id": "fc9e8e31-3176-4247-acde-45ce33c0945f",
   "metadata": {},
   "outputs": [],
   "source": [
    "arr1.argmin()"
   ]
  },
  {
   "cell_type": "code",
   "execution_count": null,
   "id": "c06dd554-279b-4304-8519-d0e57637c1da",
   "metadata": {},
   "outputs": [],
   "source": [
    "arr1.T"
   ]
  },
  {
   "cell_type": "code",
   "execution_count": null,
   "id": "852d3345-5c87-4b25-96c0-3362691f16d9",
   "metadata": {},
   "outputs": [],
   "source": [
    "dir(arr1)"
   ]
  },
  {
   "cell_type": "code",
   "execution_count": null,
   "id": "6e4e23ef-9e46-4cb9-b685-b8ec6cfc7d72",
   "metadata": {},
   "outputs": [],
   "source": [
    "dir(np)"
   ]
  },
  {
   "cell_type": "code",
   "execution_count": null,
   "id": "25846c29-dcab-4e9c-bda5-3bba3fa07f83",
   "metadata": {},
   "outputs": [],
   "source": [
    "from numpy import random"
   ]
  },
  {
   "cell_type": "code",
   "execution_count": null,
   "id": "84435955-af33-4512-ab36-bb5034080b51",
   "metadata": {},
   "outputs": [],
   "source": [
    "random.rand(2,4)"
   ]
  },
  {
   "cell_type": "code",
   "execution_count": null,
   "id": "788cd851-1e42-481f-bb7a-36216c3621ea",
   "metadata": {},
   "outputs": [],
   "source": [
    "random.randn(20)"
   ]
  },
  {
   "cell_type": "code",
   "execution_count": null,
   "id": "ff868f48-0611-4fe5-a085-87722e139848",
   "metadata": {},
   "outputs": [],
   "source": [
    "import seaborn as sns"
   ]
  },
  {
   "cell_type": "code",
   "execution_count": null,
   "id": "b2bb1beb-cba4-4fa6-9037-4263a7c61a85",
   "metadata": {},
   "outputs": [],
   "source": [
    "import warnings"
   ]
  },
  {
   "cell_type": "code",
   "execution_count": null,
   "id": "1eb98256-ec44-4327-893c-d007dbb9c7ba",
   "metadata": {},
   "outputs": [],
   "source": [
    "warnings.filterwarnings('ignore')"
   ]
  },
  {
   "cell_type": "code",
   "execution_count": null,
   "id": "f2054312-3801-43d1-add2-68c5b0aaa094",
   "metadata": {},
   "outputs": [],
   "source": [
    "sns.distplot(random.randn(20))"
   ]
  },
  {
   "cell_type": "code",
   "execution_count": null,
   "id": "290f3422-c59e-45fb-a4dc-3c0ed3b9b771",
   "metadata": {},
   "outputs": [],
   "source": [
    "# Pandas --> Series, Dataframes"
   ]
  },
  {
   "cell_type": "code",
   "execution_count": null,
   "id": "58790ac1-f510-40b8-b0dd-1ffe5ddff1e1",
   "metadata": {},
   "outputs": [],
   "source": [
    "import pandas as pd"
   ]
  },
  {
   "cell_type": "code",
   "execution_count": null,
   "id": "5732da17-d534-403f-b55e-2292790fe3ad",
   "metadata": {},
   "outputs": [],
   "source": [
    "s = pd.Series([10,12,43,42,45])"
   ]
  },
  {
   "cell_type": "code",
   "execution_count": null,
   "id": "0ae97c61-700e-488e-9016-91974997ec2e",
   "metadata": {},
   "outputs": [],
   "source": [
    "s[:3]"
   ]
  },
  {
   "cell_type": "code",
   "execution_count": null,
   "id": "7e6b2f35-1743-4384-93c4-2771c19cb9f7",
   "metadata": {},
   "outputs": [],
   "source": [
    "#s.where"
   ]
  },
  {
   "cell_type": "code",
   "execution_count": null,
   "id": "1d1445db-c0db-4df3-85da-050802ff5580",
   "metadata": {},
   "outputs": [],
   "source": [
    "pd.DataFrame(random.randn(4,2))"
   ]
  },
  {
   "cell_type": "code",
   "execution_count": null,
   "id": "b1de00d1-b460-453f-ac9f-44cc371c4adc",
   "metadata": {},
   "outputs": [],
   "source": [
    "pd.DataFrame(arr1)"
   ]
  },
  {
   "cell_type": "code",
   "execution_count": null,
   "id": "0a2a5df9-d302-4a32-862b-82ce12c80007",
   "metadata": {},
   "outputs": [],
   "source": [
    "arr1"
   ]
  },
  {
   "cell_type": "code",
   "execution_count": null,
   "id": "eea06dc0-3533-4a66-9d4f-e8d18a01b131",
   "metadata": {},
   "outputs": [],
   "source": [
    "df = pd.DataFrame({'Day':['Mon','Tue','Wed','thu','Fri'],\n",
    "                   'Temp':[12,32,22,33,23],'Rained':['Yes','No','yes','Yes','No']})"
   ]
  },
  {
   "cell_type": "code",
   "execution_count": null,
   "id": "e2299ae5-a9c9-4043-b9e5-6f40c1284e15",
   "metadata": {},
   "outputs": [],
   "source": [
    "df.columns"
   ]
  },
  {
   "cell_type": "code",
   "execution_count": null,
   "id": "9b2ae59e-a05e-445b-8dee-125fd7c1f2c0",
   "metadata": {},
   "outputs": [],
   "source": [
    "df.shape"
   ]
  },
  {
   "cell_type": "code",
   "execution_count": null,
   "id": "9fb85ac7-242a-4b5f-a328-5ebcac3c1f28",
   "metadata": {},
   "outputs": [],
   "source": [
    "df"
   ]
  },
  {
   "cell_type": "code",
   "execution_count": null,
   "id": "a9504a97-4766-4e6d-bcab-2206731af771",
   "metadata": {},
   "outputs": [],
   "source": [
    "# [] --> access columns by label, rows by index/indices\n",
    "# loc --> access columns by label, rows by label"
   ]
  },
  {
   "cell_type": "code",
   "execution_count": null,
   "id": "284e5326-4824-45d6-9ebe-551cd5450646",
   "metadata": {},
   "outputs": [],
   "source": [
    "df['Rained'][2]"
   ]
  },
  {
   "cell_type": "code",
   "execution_count": null,
   "id": "4139da7b-a1b2-4371-adaf-fd7bf2ca37fb",
   "metadata": {},
   "outputs": [],
   "source": [
    "df['Rained'][:3]"
   ]
  },
  {
   "cell_type": "code",
   "execution_count": null,
   "id": "44460cc8-4004-4cdb-90a1-b1808730f981",
   "metadata": {},
   "outputs": [],
   "source": [
    "df[['Rained','Day']][2:3]"
   ]
  },
  {
   "cell_type": "code",
   "execution_count": null,
   "id": "1403e4a4-dedc-4df0-a86e-b6379efdaa08",
   "metadata": {},
   "outputs": [],
   "source": [
    "dt = pd.date_range('2025/07/15', periods=5, freq='M')"
   ]
  },
  {
   "cell_type": "code",
   "execution_count": null,
   "id": "d1dbb897-1bbd-4b4a-8426-f0c2f2e2af46",
   "metadata": {},
   "outputs": [],
   "source": [
    "pd.date_range('2025/07/15', periods=5, freq='3M')"
   ]
  },
  {
   "cell_type": "code",
   "execution_count": null,
   "id": "a41b70c3-f335-4f74-a92f-6e7f28ff5576",
   "metadata": {},
   "outputs": [],
   "source": [
    "pd.date_range('2025/07/15', periods=5, freq='7D')"
   ]
  },
  {
   "cell_type": "code",
   "execution_count": null,
   "id": "d9aae9e4-330e-4933-8f40-16ecc8049c38",
   "metadata": {},
   "outputs": [],
   "source": [
    "help(pd.date_range)"
   ]
  },
  {
   "cell_type": "code",
   "execution_count": null,
   "id": "98ce91ea-90f4-45ab-9363-88890cd3e28a",
   "metadata": {},
   "outputs": [],
   "source": [
    "df.index = dt"
   ]
  },
  {
   "cell_type": "code",
   "execution_count": null,
   "id": "3a7067d9-07e2-4cc8-a6fc-b4b36913578c",
   "metadata": {},
   "outputs": [],
   "source": [
    "df.index"
   ]
  },
  {
   "cell_type": "code",
   "execution_count": null,
   "id": "94ab2f4b-3026-48ab-a4e1-2f6dd3607393",
   "metadata": {},
   "outputs": [],
   "source": [
    "df.loc['2025-07-18',['Rained','Temp']]"
   ]
  },
  {
   "cell_type": "code",
   "execution_count": null,
   "id": "4d37b865-e4fe-4038-af39-65487ed44cd6",
   "metadata": {},
   "outputs": [],
   "source": [
    "df.iloc[[2,4],1:]"
   ]
  },
  {
   "cell_type": "code",
   "execution_count": null,
   "id": "1bfcbb8a-15cf-4862-a052-ee2afc36cc8f",
   "metadata": {},
   "outputs": [],
   "source": [
    "df.reset_index(inplace=True)"
   ]
  },
  {
   "cell_type": "code",
   "execution_count": null,
   "id": "c42b0fde-d171-40a7-b575-c96ea54e4a21",
   "metadata": {},
   "outputs": [],
   "source": [
    "df['Cloudy'] = ['Yes','No','Yes','No','No']"
   ]
  },
  {
   "cell_type": "code",
   "execution_count": null,
   "id": "4ac6c0fb-f229-4030-908f-688750c231b0",
   "metadata": {
    "scrolled": true
   },
   "outputs": [],
   "source": [
    "# Axis is by default set to 0(rows)\n",
    "# set inplace as true for permanent operation\n",
    "df.drop('Cloudy', axis=1, inplace=True)"
   ]
  },
  {
   "cell_type": "code",
   "execution_count": null,
   "id": "c665554d-8fc3-4419-8d1f-c40d06a5a4e6",
   "metadata": {},
   "outputs": [],
   "source": [
    "df.insert(2,'Cloudy',['Yes','No','Yes','No','No'])"
   ]
  },
  {
   "cell_type": "code",
   "execution_count": null,
   "id": "57770bb6-3554-4cb6-864f-a6ce74258002",
   "metadata": {},
   "outputs": [],
   "source": [
    "type(df['Temp'])"
   ]
  },
  {
   "cell_type": "code",
   "execution_count": null,
   "id": "b82c1b45-e7aa-4198-8f9f-10d97d56d23c",
   "metadata": {},
   "outputs": [],
   "source": [
    "df.reset_index(inplace=True, drop=True)"
   ]
  },
  {
   "cell_type": "code",
   "execution_count": null,
   "id": "0c12fdd9-6ee3-4a76-aba8-4ebb6b9213e7",
   "metadata": {},
   "outputs": [],
   "source": [
    "df['Rained']=='Yes'"
   ]
  },
  {
   "cell_type": "code",
   "execution_count": null,
   "id": "f3d9e853-1171-45aa-9e08-b739d8e772f0",
   "metadata": {},
   "outputs": [],
   "source": [
    "df[df['Rained'].str.lower()=='yes']"
   ]
  },
  {
   "cell_type": "code",
   "execution_count": null,
   "id": "df531b49-4e73-44bf-a3ed-f6353fa81152",
   "metadata": {},
   "outputs": [],
   "source": [
    "df[(df['Rained'].str.lower()=='yes') & (df['Temp']>20)]"
   ]
  },
  {
   "cell_type": "code",
   "execution_count": null,
   "id": "d99435d5-a7cb-4713-a863-a0f0941eecec",
   "metadata": {},
   "outputs": [],
   "source": [
    "df[(df['Rained'].str.lower()=='yes') | (df['Temp']>20)]"
   ]
  },
  {
   "cell_type": "code",
   "execution_count": null,
   "id": "58bac3e6-a9fb-4e21-8eda-a8b2062203ec",
   "metadata": {},
   "outputs": [],
   "source": [
    "df.loc[5] = ['Sat',12,'Yes']"
   ]
  },
  {
   "cell_type": "code",
   "execution_count": null,
   "id": "b56cd4c8-eec1-444d-a521-45a725eacf14",
   "metadata": {},
   "outputs": [],
   "source": [
    "# EDA --> eXploratory data analytics"
   ]
  },
  {
   "cell_type": "code",
   "execution_count": null,
   "id": "7ba13a44-e7b8-4593-a4f8-01cae1cf7404",
   "metadata": {},
   "outputs": [],
   "source": [
    "df= pd.read_csv('E:/data/churn.csv')"
   ]
  },
  {
   "cell_type": "code",
   "execution_count": null,
   "id": "c6119e37-c384-4b9f-b074-480efeee6fb1",
   "metadata": {},
   "outputs": [],
   "source": [
    "df[:5]"
   ]
  },
  {
   "cell_type": "code",
   "execution_count": null,
   "id": "f0e3838b-1adc-4a8b-8b90-1fa18b1c5ac5",
   "metadata": {},
   "outputs": [],
   "source": [
    "# Escape sequence\n",
    "'i\\'m in class'"
   ]
  },
  {
   "cell_type": "code",
   "execution_count": null,
   "id": "f83400df-5c42-4c45-bcf1-a004fcce3aa0",
   "metadata": {},
   "outputs": [],
   "source": [
    "df.shape"
   ]
  },
  {
   "cell_type": "code",
   "execution_count": null,
   "id": "3e9f038e-b1ea-41c9-9e06-21b5c4a7b2ca",
   "metadata": {},
   "outputs": [],
   "source": [
    "df.columns"
   ]
  },
  {
   "cell_type": "code",
   "execution_count": null,
   "id": "54366b65-83d2-496d-be03-9f10c8f19c9f",
   "metadata": {},
   "outputs": [],
   "source": [
    "df[:2]"
   ]
  },
  {
   "cell_type": "code",
   "execution_count": null,
   "id": "daa57db6-0ebb-4735-8b06-4a70029d4bee",
   "metadata": {},
   "outputs": [],
   "source": [
    "# Descriptive stats"
   ]
  },
  {
   "cell_type": "code",
   "execution_count": null,
   "id": "5d0847da-0263-4176-8e9f-0d78c4daa5e3",
   "metadata": {},
   "outputs": [],
   "source": [
    "# Univariate analysis"
   ]
  },
  {
   "cell_type": "code",
   "execution_count": null,
   "id": "01a0f468-7439-4722-84fa-47ce6a6b0747",
   "metadata": {},
   "outputs": [],
   "source": [
    "# Measure of central tendancy --> mean, median, mode"
   ]
  },
  {
   "cell_type": "code",
   "execution_count": null,
   "id": "db832808-ae77-4abd-9f66-ee7fedd994c8",
   "metadata": {},
   "outputs": [],
   "source": [
    "df['CreditScore'].mean()"
   ]
  },
  {
   "cell_type": "code",
   "execution_count": null,
   "id": "9616c278-fdad-4e33-873b-c79a29716b6c",
   "metadata": {},
   "outputs": [],
   "source": [
    "df['CreditScore'].median()"
   ]
  },
  {
   "cell_type": "code",
   "execution_count": null,
   "id": "de5a24aa-1c50-45be-9c2e-445bc1577d5c",
   "metadata": {},
   "outputs": [],
   "source": [
    "# Measure of dispersion --> range, variance, std deviation, quartiles"
   ]
  },
  {
   "cell_type": "code",
   "execution_count": null,
   "id": "16fe737b-ef82-44ef-b0dd-c56be71ac411",
   "metadata": {},
   "outputs": [],
   "source": [
    "sns.distplot(df['CreditScore'])"
   ]
  },
  {
   "cell_type": "code",
   "execution_count": null,
   "id": "0a6562b1-78dc-4858-8131-8834bf56db64",
   "metadata": {},
   "outputs": [],
   "source": [
    "df['CreditScore'].min()"
   ]
  },
  {
   "cell_type": "code",
   "execution_count": null,
   "id": "34502e05-43b2-4edc-97ca-2962e31994dd",
   "metadata": {},
   "outputs": [],
   "source": [
    "df['CreditScore'].max()"
   ]
  },
  {
   "cell_type": "code",
   "execution_count": null,
   "id": "1d5529e0-e58f-4368-94bd-ce23bad0f08e",
   "metadata": {},
   "outputs": [],
   "source": [
    "df['CreditScore'].std()"
   ]
  },
  {
   "cell_type": "code",
   "execution_count": null,
   "id": "f697e152-4c09-4a3c-ad4c-eca1c7c20dd5",
   "metadata": {},
   "outputs": [],
   "source": [
    "sns.boxplot(df['CreditScore'])"
   ]
  },
  {
   "cell_type": "code",
   "execution_count": null,
   "id": "ff4b10f6-51c4-4109-9c97-77b66a0081ef",
   "metadata": {},
   "outputs": [],
   "source": [
    "q1=df['CreditScore'].quantile(0.25)"
   ]
  },
  {
   "cell_type": "code",
   "execution_count": null,
   "id": "4fe0bdee-021e-4344-9857-933f83756a23",
   "metadata": {},
   "outputs": [],
   "source": [
    "q3=df['CreditScore'].quantile(0.75)"
   ]
  },
  {
   "cell_type": "code",
   "execution_count": null,
   "id": "4ab01700-48ce-4989-912d-74be3d7e426d",
   "metadata": {},
   "outputs": [],
   "source": [
    "df['Geography'].nunique()"
   ]
  },
  {
   "cell_type": "code",
   "execution_count": null,
   "id": "a68af8a8-2118-482b-8f50-9d347c412e27",
   "metadata": {},
   "outputs": [],
   "source": [
    "df['Geography'].unique()"
   ]
  },
  {
   "cell_type": "code",
   "execution_count": null,
   "id": "2d041ce0-9fbd-4d93-8546-0c661a6b8af4",
   "metadata": {},
   "outputs": [],
   "source": [
    "df['Geography'].mode()"
   ]
  },
  {
   "cell_type": "code",
   "execution_count": null,
   "id": "f4140186-93e2-4954-828a-a737fa118422",
   "metadata": {},
   "outputs": [],
   "source": [
    "df['Geography'].value_counts()"
   ]
  },
  {
   "cell_type": "code",
   "execution_count": null,
   "id": "d954a6c0-b356-4c5c-919b-369c43228821",
   "metadata": {},
   "outputs": [],
   "source": [
    "sns.countplot(df['Geography'])"
   ]
  },
  {
   "cell_type": "code",
   "execution_count": null,
   "id": "7a9354b7-73b5-48a0-a6d1-3d9dace069da",
   "metadata": {},
   "outputs": [],
   "source": [
    "df.describe().T"
   ]
  },
  {
   "cell_type": "code",
   "execution_count": null,
   "id": "ffc877e6-172b-41d0-9f6d-50fe298a263b",
   "metadata": {},
   "outputs": [],
   "source": [
    "import matplotlib.pyplot as plt"
   ]
  },
  {
   "cell_type": "code",
   "execution_count": null,
   "id": "39e915a4-0b88-42db-b58e-3ac9b2697489",
   "metadata": {},
   "outputs": [],
   "source": [
    "plt.scatter(df['CreditScore'],df['Balance'])"
   ]
  },
  {
   "cell_type": "code",
   "execution_count": null,
   "id": "8c94c7f5-c409-4e32-99ca-df4b0d8d5b6b",
   "metadata": {},
   "outputs": [],
   "source": [
    "sns.boxplot(x=df['Geography'],y=df['Balance'], hue=df['Exited'])"
   ]
  },
  {
   "cell_type": "code",
   "execution_count": null,
   "id": "8240692d-eb34-4750-b6b1-33153c0b66a0",
   "metadata": {},
   "outputs": [],
   "source": [
    "sns.countplot(x=df['Geography'],hue=df['Exited'])"
   ]
  },
  {
   "cell_type": "code",
   "execution_count": null,
   "id": "2050b758-d9ab-481c-b3e2-c697cd6131a6",
   "metadata": {},
   "outputs": [],
   "source": [
    "pd.crosstab(df['Geography'],df['Exited'])"
   ]
  },
  {
   "cell_type": "code",
   "execution_count": null,
   "id": "867be027-b647-461d-8a90-7c6bafb1b330",
   "metadata": {},
   "outputs": [],
   "source": [
    "df.groupby('Geography').agg({'EstimatedSalary':['min','max','mean'],\n",
    "                            'Balance':['min','max','mean'],\n",
    "                            'CreditScore':['mean','std'],\n",
    "                            'Exited':'mean'})"
   ]
  },
  {
   "cell_type": "code",
   "execution_count": null,
   "id": "c9e081c8-7562-4e43-a441-f2b1f8d4f6d0",
   "metadata": {},
   "outputs": [],
   "source": [
    "df.reindex"
   ]
  },
  {
   "cell_type": "code",
   "execution_count": null,
   "id": "2e0f3b2d-94af-481b-bf7c-1b4ea22208ec",
   "metadata": {},
   "outputs": [],
   "source": [
    "df1 = pd.DataFrame({'key1':['a','b','c','d'], 'val1':[1,2,5,10]})\n",
    "df2 = pd.DataFrame({'key2':['a','b','a','f'], 'val2':[10,20,30,40]})"
   ]
  },
  {
   "cell_type": "code",
   "execution_count": null,
   "id": "2e09a74f-7a01-4740-b9f6-db3332d46832",
   "metadata": {},
   "outputs": [],
   "source": [
    "pd.merge(df1,df2, left_on='key1', right_on='key2')"
   ]
  },
  {
   "cell_type": "code",
   "execution_count": null,
   "id": "20b79fa7-537a-4925-a34b-3dbd24d5e28d",
   "metadata": {},
   "outputs": [],
   "source": [
    "pd.merge(df1,df2, left_on='key1', right_on='key2', how='right')"
   ]
  },
  {
   "cell_type": "code",
   "execution_count": null,
   "id": "01339ca3-b710-4aff-95b2-a102f8171be2",
   "metadata": {},
   "outputs": [],
   "source": [
    "pd.merge(df1,df2, left_on='key1', right_on='key2', how='outer')"
   ]
  },
  {
   "cell_type": "code",
   "execution_count": null,
   "id": "37baf446-6b98-4479-9d35-f9f729a227a2",
   "metadata": {},
   "outputs": [],
   "source": [
    "df3 = df2.rename(columns={'key2':'key1','val2':'val1'})"
   ]
  },
  {
   "cell_type": "code",
   "execution_count": null,
   "id": "5527c0d5-516f-4b33-acd4-205cd77192d5",
   "metadata": {},
   "outputs": [],
   "source": [
    "df4 = pd.concat([df1,df3])"
   ]
  },
  {
   "cell_type": "code",
   "execution_count": null,
   "id": "8aa5227e-0bcd-410e-aa37-c0e36dac0f7f",
   "metadata": {},
   "outputs": [],
   "source": [
    "df1 = pd.DataFrame({'Mum':[100,200,15,34], 'Blr':[10,200,500,1000]})\n",
    "df2 = pd.DataFrame({'Mum':[10,20,40,80], 'Blr':[110,20,30,400]})"
   ]
  },
  {
   "cell_type": "code",
   "execution_count": null,
   "id": "c73e8c20-21fe-40f8-beeb-368e6d263163",
   "metadata": {},
   "outputs": [],
   "source": [
    "pd.concat([df1,df2], ignore_index=True)"
   ]
  },
  {
   "cell_type": "code",
   "execution_count": null,
   "id": "c2ec012b-4127-4ea6-9cf6-3d394c0892a6",
   "metadata": {},
   "outputs": [],
   "source": [
    "pd.pivot_table(df, index=['Geography'], values='Balance', columns='Gender')"
   ]
  },
  {
   "cell_type": "code",
   "execution_count": null,
   "id": "23d9209d-9c6a-49ba-acb1-2e91dea379a6",
   "metadata": {},
   "outputs": [],
   "source": [
    "help(df.pivot_table)"
   ]
  },
  {
   "cell_type": "code",
   "execution_count": null,
   "id": "d8735144-d62b-488f-a385-a563394c05ba",
   "metadata": {},
   "outputs": [],
   "source": [
    "# Data Cleaning"
   ]
  },
  {
   "cell_type": "code",
   "execution_count": null,
   "id": "3a28f672-2860-4ff9-8f97-c0dd01d5eb17",
   "metadata": {},
   "outputs": [],
   "source": [
    "df3 = pd.DataFrame({'Age':[-19,28,np.nan,34,np.nan,38,np.nan,222,np.nan],'Sal':[20,40,32,100,25,75,35,np.nan,np.nan], \n",
    "                    'Height':[5.2,4.7,3.8,5.6,5.5,0,4.3,np.nan,59]})"
   ]
  },
  {
   "cell_type": "code",
   "execution_count": null,
   "id": "61e02e72-8c53-4d9c-9460-036a0a042a4e",
   "metadata": {},
   "outputs": [],
   "source": [
    "df3"
   ]
  },
  {
   "cell_type": "code",
   "execution_count": null,
   "id": "be34eadf-833c-4dc3-bd8b-35759cebc30e",
   "metadata": {},
   "outputs": [],
   "source": [
    "df3['Height'].mean()"
   ]
  },
  {
   "cell_type": "code",
   "execution_count": null,
   "id": "ae1e894c-2daf-4a5b-87f4-84ad22444efd",
   "metadata": {},
   "outputs": [],
   "source": [
    "# delete all rows with nan/use thresh\n",
    "df3.dropna()"
   ]
  },
  {
   "cell_type": "code",
   "execution_count": null,
   "id": "96dd0499-9b18-4108-90ba-0327f9ad74ce",
   "metadata": {},
   "outputs": [],
   "source": [
    "# delet columns with missing val\n",
    "df3.dropna(axis=1)"
   ]
  },
  {
   "cell_type": "code",
   "execution_count": null,
   "id": "f61f3d41-d702-4471-bd49-e15a45429bf8",
   "metadata": {},
   "outputs": [],
   "source": [
    "df3.dropna(axis=1, thresh=6)"
   ]
  },
  {
   "cell_type": "code",
   "execution_count": null,
   "id": "1fb2489d-4309-4caa-adf3-80fd3280ee02",
   "metadata": {},
   "outputs": [],
   "source": [
    "df3['Height'].fillna(value=df3['Height'].mean())"
   ]
  },
  {
   "cell_type": "code",
   "execution_count": null,
   "id": "565c843d-94da-4253-8061-5f62bb97a0cc",
   "metadata": {},
   "outputs": [],
   "source": [
    "def fn(x):\n",
    "    return x*x"
   ]
  },
  {
   "cell_type": "code",
   "execution_count": null,
   "id": "5b8f2118-e48c-4887-9139-f4bef8a5e1a5",
   "metadata": {},
   "outputs": [],
   "source": [
    "df3['Age'].apply(fn)"
   ]
  },
  {
   "cell_type": "code",
   "execution_count": null,
   "id": "b20f9c01-2d66-4fa3-bb83-11f71913d94a",
   "metadata": {},
   "outputs": [],
   "source": [
    "df3.describe().T"
   ]
  },
  {
   "cell_type": "code",
   "execution_count": null,
   "id": "56b09862-7ed3-41e3-8583-ea9eb99f5c7d",
   "metadata": {},
   "outputs": [],
   "source": [
    "pd.Series([5,5,5,np.nan]).mean()"
   ]
  },
  {
   "cell_type": "code",
   "execution_count": null,
   "id": "a9268d47-3370-4caf-9447-2ca6042fb3a0",
   "metadata": {},
   "outputs": [],
   "source": [
    "df3['Sal'][3] = '?'"
   ]
  },
  {
   "cell_type": "code",
   "execution_count": null,
   "id": "ef760507-4726-4dad-af81-1d8027ecd358",
   "metadata": {
    "scrolled": true
   },
   "outputs": [],
   "source": [
    "df3['Sal'].mean()"
   ]
  },
  {
   "cell_type": "code",
   "execution_count": null,
   "id": "fbaa4bb0-a5e6-43c4-b537-8bda800a0554",
   "metadata": {},
   "outputs": [],
   "source": [
    "df3.info()"
   ]
  },
  {
   "cell_type": "code",
   "execution_count": null,
   "id": "b271bb72-2608-42da-943e-75cb3318bc26",
   "metadata": {},
   "outputs": [],
   "source": [
    "df3['Sal'].astype('float')"
   ]
  },
  {
   "cell_type": "code",
   "execution_count": null,
   "id": "249b400a-2915-46d8-a448-dc3e8e1be6fd",
   "metadata": {},
   "outputs": [],
   "source": [
    "df3[df3['Sal']=='?']=np.nan"
   ]
  },
  {
   "cell_type": "code",
   "execution_count": 286,
   "id": "29dc0e8d-e382-496d-96aa-b35d9e169e39",
   "metadata": {},
   "outputs": [],
   "source": [
    "punc = ['?','@','|']"
   ]
  },
  {
   "cell_type": "code",
   "execution_count": 287,
   "id": "cc094589-0615-4dea-b168-4d163da8c168",
   "metadata": {},
   "outputs": [],
   "source": [
    "import re"
   ]
  },
  {
   "cell_type": "code",
   "execution_count": null,
   "id": "24e2ee99-8a4e-428b-9528-d206e86eceff",
   "metadata": {},
   "outputs": [],
   "source": [
    "re.compile('A-Z^')"
   ]
  },
  {
   "cell_type": "code",
   "execution_count": 289,
   "id": "4909486c-8cac-4b9b-873d-411797b49a33",
   "metadata": {},
   "outputs": [
    {
     "name": "stdout",
     "output_type": "stream",
     "text": [
      "Help on function compile in module re:\n",
      "\n",
      "compile(pattern, flags=0)\n",
      "    Compile a regular expression pattern, returning a Pattern object.\n",
      "\n"
     ]
    }
   ],
   "source": [
    "help(re.compile)"
   ]
  },
  {
   "cell_type": "code",
   "execution_count": 288,
   "id": "f7470d7c-d7c7-4fc3-b56e-e346d23f9dc3",
   "metadata": {},
   "outputs": [
    {
     "data": {
      "text/html": [
       "<div>\n",
       "<style scoped>\n",
       "    .dataframe tbody tr th:only-of-type {\n",
       "        vertical-align: middle;\n",
       "    }\n",
       "\n",
       "    .dataframe tbody tr th {\n",
       "        vertical-align: top;\n",
       "    }\n",
       "\n",
       "    .dataframe thead th {\n",
       "        text-align: right;\n",
       "    }\n",
       "</style>\n",
       "<table border=\"1\" class=\"dataframe\">\n",
       "  <thead>\n",
       "    <tr style=\"text-align: right;\">\n",
       "      <th></th>\n",
       "      <th>Age</th>\n",
       "      <th>Sal</th>\n",
       "      <th>Height</th>\n",
       "    </tr>\n",
       "  </thead>\n",
       "  <tbody>\n",
       "    <tr>\n",
       "      <th>0</th>\n",
       "      <td>-19.0</td>\n",
       "      <td>20.0</td>\n",
       "      <td>5.2</td>\n",
       "    </tr>\n",
       "    <tr>\n",
       "      <th>1</th>\n",
       "      <td>28.0</td>\n",
       "      <td>40.0</td>\n",
       "      <td>4.7</td>\n",
       "    </tr>\n",
       "    <tr>\n",
       "      <th>2</th>\n",
       "      <td>NaN</td>\n",
       "      <td>32.0</td>\n",
       "      <td>3.8</td>\n",
       "    </tr>\n",
       "    <tr>\n",
       "      <th>3</th>\n",
       "      <td>NaN</td>\n",
       "      <td>NaN</td>\n",
       "      <td>NaN</td>\n",
       "    </tr>\n",
       "    <tr>\n",
       "      <th>4</th>\n",
       "      <td>NaN</td>\n",
       "      <td>25.0</td>\n",
       "      <td>5.5</td>\n",
       "    </tr>\n",
       "    <tr>\n",
       "      <th>5</th>\n",
       "      <td>38.0</td>\n",
       "      <td>75.0</td>\n",
       "      <td>0.0</td>\n",
       "    </tr>\n",
       "    <tr>\n",
       "      <th>6</th>\n",
       "      <td>NaN</td>\n",
       "      <td>35.0</td>\n",
       "      <td>4.3</td>\n",
       "    </tr>\n",
       "    <tr>\n",
       "      <th>7</th>\n",
       "      <td>222.0</td>\n",
       "      <td>NaN</td>\n",
       "      <td>NaN</td>\n",
       "    </tr>\n",
       "    <tr>\n",
       "      <th>8</th>\n",
       "      <td>NaN</td>\n",
       "      <td>NaN</td>\n",
       "      <td>59.0</td>\n",
       "    </tr>\n",
       "  </tbody>\n",
       "</table>\n",
       "</div>"
      ],
      "text/plain": [
       "     Age   Sal  Height\n",
       "0  -19.0  20.0     5.2\n",
       "1   28.0  40.0     4.7\n",
       "2    NaN  32.0     3.8\n",
       "3    NaN   NaN     NaN\n",
       "4    NaN  25.0     5.5\n",
       "5   38.0  75.0     0.0\n",
       "6    NaN  35.0     4.3\n",
       "7  222.0   NaN     NaN\n",
       "8    NaN   NaN    59.0"
      ]
     },
     "execution_count": 288,
     "metadata": {},
     "output_type": "execute_result"
    }
   ],
   "source": [
    "df3"
   ]
  },
  {
   "cell_type": "code",
   "execution_count": null,
   "id": "b1de6b40-0ba6-48bd-aceb-1dadf649cf2d",
   "metadata": {},
   "outputs": [],
   "source": []
  }
 ],
 "metadata": {
  "kernelspec": {
   "display_name": "Python 3 (ipykernel)",
   "language": "python",
   "name": "python3"
  },
  "language_info": {
   "codemirror_mode": {
    "name": "ipython",
    "version": 3
   },
   "file_extension": ".py",
   "mimetype": "text/x-python",
   "name": "python",
   "nbconvert_exporter": "python",
   "pygments_lexer": "ipython3",
   "version": "3.12.4"
  }
 },
 "nbformat": 4,
 "nbformat_minor": 5
}
